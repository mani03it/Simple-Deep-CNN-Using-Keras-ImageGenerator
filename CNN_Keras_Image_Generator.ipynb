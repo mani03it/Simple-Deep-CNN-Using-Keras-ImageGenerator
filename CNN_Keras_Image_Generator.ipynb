{
  "nbformat": 4,
  "nbformat_minor": 0,
  "metadata": {
    "colab": {
      "name": "CNN_Keras_Image_Generator.ipynb",
      "version": "0.3.2",
      "provenance": [],
      "collapsed_sections": []
    },
    "kernelspec": {
      "name": "python3",
      "display_name": "Python 3"
    },
    "accelerator": "GPU"
  },
  "cells": [
    {
      "cell_type": "markdown",
      "metadata": {
        "id": "LKNFEvwxrOaZ",
        "colab_type": "text"
      },
      "source": [
        "### Simple Deep CNN on CIFAR10 small images Dataset\n",
        "\n",
        "The following code illustrates the implementation of Simple Deep CNN on CIFAR10 small images dataset using Keras and Tensorflow backend and ImageGenerator."
      ]
    },
    {
      "cell_type": "code",
      "metadata": {
        "id": "qoBaSTw8ijiH",
        "colab_type": "code",
        "outputId": "1d367b19-f7b9-41d3-899c-1f5554eac558",
        "colab": {
          "base_uri": "https://localhost:8080/",
          "height": 35
        }
      },
      "source": [
        "from __future__ import print_function\n",
        "import keras\n",
        "from keras.datasets import cifar10\n",
        "from keras.preprocessing.image import ImageDataGenerator\n",
        "from keras.models import Sequential\n",
        "from keras.layers import Dense, Dropout, Activation, Flatten\n",
        "from keras.layers import Conv2D, MaxPooling2D\n",
        "import os\n"
      ],
      "execution_count": 1,
      "outputs": [
        {
          "output_type": "stream",
          "text": [
            "Using TensorFlow backend.\n"
          ],
          "name": "stderr"
        }
      ]
    },
    {
      "cell_type": "markdown",
      "metadata": {
        "id": "y8MUFFiIrq3s",
        "colab_type": "text"
      },
      "source": [
        "##### Initializing parameters\n"
      ]
    },
    {
      "cell_type": "code",
      "metadata": {
        "id": "4xMcIj__jBeo",
        "colab_type": "code",
        "colab": {}
      },
      "source": [
        "\n",
        "batch_size = 32\n",
        "num_classes = 10\n",
        "epochs = 100\n",
        "data_augmentation = True\n",
        "num_predictions = 20\n",
        "save_dir = os.path.join(os.getcwd(), 'saved_models')\n",
        "model_name = 'keras_cifar10_trained_model_Aug.h5'"
      ],
      "execution_count": 0,
      "outputs": []
    },
    {
      "cell_type": "markdown",
      "metadata": {
        "id": "nfMwy2lvr7YB",
        "colab_type": "text"
      },
      "source": [
        "##### Splitting Train and Test Data from CIFAR Dataset"
      ]
    },
    {
      "cell_type": "code",
      "metadata": {
        "id": "IH_MVBUqjKEE",
        "colab_type": "code",
        "outputId": "98562238-1d7e-4c18-a4c2-1bc8401c21f2",
        "colab": {
          "base_uri": "https://localhost:8080/",
          "height": 109
        }
      },
      "source": [
        "# The data, split between train and test sets:\n",
        "(x_train, y_train), (x_test, y_test) = cifar10.load_data()\n",
        "print('x_train shape:', x_train.shape)\n",
        "print(x_train.shape[0], 'train samples')\n",
        "print(x_test.shape[0], 'test samples')"
      ],
      "execution_count": 3,
      "outputs": [
        {
          "output_type": "stream",
          "text": [
            "Downloading data from https://www.cs.toronto.edu/~kriz/cifar-10-python.tar.gz\n",
            "170500096/170498071 [==============================] - 2s 0us/step\n",
            "x_train shape: (50000, 32, 32, 3)\n",
            "50000 train samples\n",
            "10000 test samples\n"
          ],
          "name": "stdout"
        }
      ]
    },
    {
      "cell_type": "code",
      "metadata": {
        "id": "W3XfD_QZjTIY",
        "colab_type": "code",
        "colab": {}
      },
      "source": [
        "\n",
        "# Convert class vectors to binary class matrices.\n",
        "y_train = keras.utils.to_categorical(y_train, num_classes)\n",
        "y_test = keras.utils.to_categorical(y_test, num_classes)"
      ],
      "execution_count": 0,
      "outputs": []
    },
    {
      "cell_type": "markdown",
      "metadata": {
        "id": "XQAQKrfjsEo4",
        "colab_type": "text"
      },
      "source": [
        "##### Initializing the model"
      ]
    },
    {
      "cell_type": "code",
      "metadata": {
        "id": "5ZbqwAedja4T",
        "colab_type": "code",
        "colab": {
          "base_uri": "https://localhost:8080/",
          "height": 294
        },
        "outputId": "80b72e7d-5fa0-4e0c-b288-fa3e23300045"
      },
      "source": [
        "model = Sequential()\n",
        "model.add(Conv2D(32, (3, 3), padding='same',input_shape=x_train.shape[1:]))\n",
        "model.add(Activation('relu'))\n",
        "model.add(Conv2D(32, (3, 3)))\n",
        "model.add(Activation('relu'))\n",
        "model.add(MaxPooling2D(pool_size=(2, 2)))\n",
        "model.add(Dropout(rate=0.25))\n",
        "\n",
        "model.add(Conv2D(64, (3, 3), padding='same'))\n",
        "model.add(Activation('relu'))\n",
        "model.add(Conv2D(64, (3, 3)))\n",
        "model.add(Activation('relu'))\n",
        "model.add(MaxPooling2D(pool_size=(2, 2)))\n",
        "model.add(Dropout(rate=0.25))\n",
        "\n",
        "model.add(Flatten())\n",
        "model.add(Dense(512))\n",
        "model.add(Activation('relu'))\n",
        "model.add(Dropout(rate=0.5))\n",
        "model.add(Dense(num_classes))\n",
        "model.add(Activation('softmax'))"
      ],
      "execution_count": 5,
      "outputs": [
        {
          "output_type": "stream",
          "text": [
            "WARNING: Logging before flag parsing goes to stderr.\n",
            "W0815 06:49:44.627435 140032602081152 deprecation_wrapper.py:119] From /usr/local/lib/python3.6/dist-packages/keras/backend/tensorflow_backend.py:74: The name tf.get_default_graph is deprecated. Please use tf.compat.v1.get_default_graph instead.\n",
            "\n",
            "W0815 06:49:44.667077 140032602081152 deprecation_wrapper.py:119] From /usr/local/lib/python3.6/dist-packages/keras/backend/tensorflow_backend.py:517: The name tf.placeholder is deprecated. Please use tf.compat.v1.placeholder instead.\n",
            "\n",
            "W0815 06:49:44.675076 140032602081152 deprecation_wrapper.py:119] From /usr/local/lib/python3.6/dist-packages/keras/backend/tensorflow_backend.py:4138: The name tf.random_uniform is deprecated. Please use tf.random.uniform instead.\n",
            "\n",
            "W0815 06:49:44.711248 140032602081152 deprecation_wrapper.py:119] From /usr/local/lib/python3.6/dist-packages/keras/backend/tensorflow_backend.py:3976: The name tf.nn.max_pool is deprecated. Please use tf.nn.max_pool2d instead.\n",
            "\n",
            "W0815 06:49:44.714859 140032602081152 deprecation_wrapper.py:119] From /usr/local/lib/python3.6/dist-packages/keras/backend/tensorflow_backend.py:133: The name tf.placeholder_with_default is deprecated. Please use tf.compat.v1.placeholder_with_default instead.\n",
            "\n",
            "W0815 06:49:44.722718 140032602081152 deprecation.py:506] From /usr/local/lib/python3.6/dist-packages/keras/backend/tensorflow_backend.py:3445: calling dropout (from tensorflow.python.ops.nn_ops) with keep_prob is deprecated and will be removed in a future version.\n",
            "Instructions for updating:\n",
            "Please use `rate` instead of `keep_prob`. Rate should be set to `rate = 1 - keep_prob`.\n"
          ],
          "name": "stderr"
        }
      ]
    },
    {
      "cell_type": "markdown",
      "metadata": {
        "id": "sJ83u3ogsKtd",
        "colab_type": "text"
      },
      "source": [
        "##### Initializing the optimizer"
      ]
    },
    {
      "cell_type": "code",
      "metadata": {
        "id": "shne6prNkn5e",
        "colab_type": "code",
        "colab": {}
      },
      "source": [
        "# initiate RMSprop optimizer\n",
        "opt = keras.optimizers.rmsprop(lr=0.0001, decay=1e-6)"
      ],
      "execution_count": 0,
      "outputs": []
    },
    {
      "cell_type": "markdown",
      "metadata": {
        "id": "u2ydMyMBsQDv",
        "colab_type": "text"
      },
      "source": [
        "##### Compiling the model"
      ]
    },
    {
      "cell_type": "code",
      "metadata": {
        "id": "FdIZ5_m1ktHt",
        "colab_type": "code",
        "outputId": "9fa63b80-3d8e-4124-bef8-de9204c96185",
        "colab": {
          "base_uri": "https://localhost:8080/",
          "height": 110
        }
      },
      "source": [
        "# Let's train the model using RMSprop\n",
        "model.compile(loss='categorical_crossentropy',\n",
        "              optimizer=opt,\n",
        "              metrics=['accuracy'])\n",
        "\n",
        "x_train = x_train.astype('float32')\n",
        "x_test = x_test.astype('float32')\n",
        "x_train /= 255\n",
        "x_test /= 255"
      ],
      "execution_count": 7,
      "outputs": [
        {
          "output_type": "stream",
          "text": [
            "W0815 06:50:10.864211 140032602081152 deprecation_wrapper.py:119] From /usr/local/lib/python3.6/dist-packages/keras/optimizers.py:790: The name tf.train.Optimizer is deprecated. Please use tf.compat.v1.train.Optimizer instead.\n",
            "\n",
            "W0815 06:50:10.879560 140032602081152 deprecation_wrapper.py:119] From /usr/local/lib/python3.6/dist-packages/keras/backend/tensorflow_backend.py:3295: The name tf.log is deprecated. Please use tf.math.log instead.\n",
            "\n"
          ],
          "name": "stderr"
        }
      ]
    },
    {
      "cell_type": "markdown",
      "metadata": {
        "id": "eY6dRPqYsdjm",
        "colab_type": "text"
      },
      "source": [
        "##### Building the model"
      ]
    },
    {
      "cell_type": "code",
      "metadata": {
        "id": "cakx0XaXlzJa",
        "colab_type": "code",
        "outputId": "b7b444be-434b-4cb0-b5b7-55debb8b2fdf",
        "colab": {
          "base_uri": "https://localhost:8080/",
          "height": 1000
        }
      },
      "source": [
        "if not data_augmentation:\n",
        "    print('Not using data augmentation.')\n",
        "    model.fit(x_train, y_train,\n",
        "              batch_size=batch_size,\n",
        "              epochs=epochs,\n",
        "              validation_data=(x_test, y_test),\n",
        "              shuffle=True)\n",
        "else:\n",
        "    print('Using real-time data augmentation.')\n",
        "    # This will do preprocessing and realtime data augmentation:\n",
        "    datagen = ImageDataGenerator()\n",
        "    \n",
        "    # Compute quantities required for feature-wise normalization\n",
        "    # (std, mean, and principal components if ZCA whitening is applied).\n",
        "    datagen.fit(x_train)\n",
        "\n",
        "    # Fit the model on the batches generated by datagen.flow().\n",
        "    model.fit_generator(datagen.flow(x_train, y_train,batch_size=batch_size),\n",
        "                        epochs=epochs,\n",
        "                        validation_data=(x_test, y_test),workers=4,steps_per_epoch=1)"
      ],
      "execution_count": 9,
      "outputs": [
        {
          "output_type": "stream",
          "text": [
            "Using real-time data augmentation.\n",
            "Epoch 1/100\n",
            "1/1 [==============================] - 1s 853ms/step - loss: 2.1004 - acc: 0.3438 - val_loss: 2.1510 - val_acc: 0.2332\n",
            "Epoch 2/100\n",
            "1/1 [==============================] - 1s 801ms/step - loss: 2.1667 - acc: 0.1562 - val_loss: 2.1517 - val_acc: 0.2412\n",
            "Epoch 3/100\n",
            "1/1 [==============================] - 1s 746ms/step - loss: 2.1113 - acc: 0.2812 - val_loss: 2.1519 - val_acc: 0.2353\n",
            "Epoch 4/100\n",
            "1/1 [==============================] - 1s 735ms/step - loss: 2.2152 - acc: 0.2188 - val_loss: 2.1338 - val_acc: 0.2322\n",
            "Epoch 5/100\n",
            "1/1 [==============================] - 1s 721ms/step - loss: 2.1811 - acc: 0.2500 - val_loss: 2.1301 - val_acc: 0.2239\n",
            "Epoch 6/100\n",
            "1/1 [==============================] - 1s 717ms/step - loss: 2.1987 - acc: 0.2812 - val_loss: 2.1281 - val_acc: 0.2329\n",
            "Epoch 7/100\n",
            "1/1 [==============================] - 1s 717ms/step - loss: 2.0753 - acc: 0.1875 - val_loss: 2.1318 - val_acc: 0.2283\n",
            "Epoch 8/100\n",
            "1/1 [==============================] - 1s 718ms/step - loss: 2.0777 - acc: 0.3125 - val_loss: 2.1249 - val_acc: 0.2101\n",
            "Epoch 9/100\n",
            "1/1 [==============================] - 1s 725ms/step - loss: 2.0010 - acc: 0.1562 - val_loss: 2.1228 - val_acc: 0.2059\n",
            "Epoch 10/100\n",
            "1/1 [==============================] - 1s 705ms/step - loss: 2.1348 - acc: 0.2188 - val_loss: 2.1195 - val_acc: 0.2088\n",
            "Epoch 11/100\n",
            "1/1 [==============================] - 1s 1s/step - loss: 1.9791 - acc: 0.1875 - val_loss: 2.1179 - val_acc: 0.2068\n",
            "Epoch 12/100\n",
            "1/1 [==============================] - 1s 934ms/step - loss: 2.1503 - acc: 0.0938 - val_loss: 2.1135 - val_acc: 0.2174\n",
            "Epoch 13/100\n",
            "1/1 [==============================] - 1s 730ms/step - loss: 2.0783 - acc: 0.1875 - val_loss: 2.1105 - val_acc: 0.2201\n",
            "Epoch 14/100\n",
            "1/1 [==============================] - 1s 1s/step - loss: 2.1834 - acc: 0.2500 - val_loss: 2.1186 - val_acc: 0.2144\n",
            "Epoch 15/100\n",
            "1/1 [==============================] - 1s 1s/step - loss: 2.1005 - acc: 0.1875 - val_loss: 2.1018 - val_acc: 0.2133\n",
            "Epoch 16/100\n",
            "1/1 [==============================] - 1s 736ms/step - loss: 2.0758 - acc: 0.2188 - val_loss: 2.0987 - val_acc: 0.2144\n",
            "Epoch 17/100\n",
            "1/1 [==============================] - 1s 727ms/step - loss: 2.1034 - acc: 0.2500 - val_loss: 2.1120 - val_acc: 0.2054\n",
            "Epoch 18/100\n",
            "1/1 [==============================] - 1s 714ms/step - loss: 2.0753 - acc: 0.2500 - val_loss: 2.1134 - val_acc: 0.2009\n",
            "Epoch 19/100\n",
            "1/1 [==============================] - 1s 710ms/step - loss: 1.9308 - acc: 0.2500 - val_loss: 2.0986 - val_acc: 0.2054\n",
            "Epoch 20/100\n",
            "1/1 [==============================] - 1s 718ms/step - loss: 1.9458 - acc: 0.3438 - val_loss: 2.0877 - val_acc: 0.2111\n",
            "Epoch 21/100\n",
            "1/1 [==============================] - 1s 713ms/step - loss: 1.9183 - acc: 0.3438 - val_loss: 2.1175 - val_acc: 0.1957\n",
            "Epoch 22/100\n",
            "1/1 [==============================] - 1s 703ms/step - loss: 2.0415 - acc: 0.3125 - val_loss: 2.0940 - val_acc: 0.1991\n",
            "Epoch 23/100\n",
            "1/1 [==============================] - 1s 720ms/step - loss: 2.1885 - acc: 0.1875 - val_loss: 2.0870 - val_acc: 0.2015\n",
            "Epoch 24/100\n",
            "1/1 [==============================] - 1s 718ms/step - loss: 2.2299 - acc: 0.1875 - val_loss: 2.0968 - val_acc: 0.2038\n",
            "Epoch 25/100\n",
            "1/1 [==============================] - 1s 701ms/step - loss: 2.2075 - acc: 0.0938 - val_loss: 2.0779 - val_acc: 0.2186\n",
            "Epoch 26/100\n",
            "1/1 [==============================] - 1s 715ms/step - loss: 2.2237 - acc: 0.0625 - val_loss: 2.0785 - val_acc: 0.2295\n",
            "Epoch 27/100\n",
            "1/1 [==============================] - 1s 728ms/step - loss: 2.0678 - acc: 0.2500 - val_loss: 2.1167 - val_acc: 0.1999\n",
            "Epoch 28/100\n",
            "1/1 [==============================] - 1s 716ms/step - loss: 2.1149 - acc: 0.1250 - val_loss: 2.1137 - val_acc: 0.2096\n",
            "Epoch 29/100\n",
            "1/1 [==============================] - 1s 702ms/step - loss: 2.0465 - acc: 0.2188 - val_loss: 2.0845 - val_acc: 0.2251\n",
            "Epoch 30/100\n",
            "1/1 [==============================] - 1s 705ms/step - loss: 2.0808 - acc: 0.2500 - val_loss: 2.0739 - val_acc: 0.2285\n",
            "Epoch 31/100\n",
            "1/1 [==============================] - 1s 714ms/step - loss: 2.0152 - acc: 0.2812 - val_loss: 2.0784 - val_acc: 0.2255\n",
            "Epoch 32/100\n",
            "1/1 [==============================] - 1s 707ms/step - loss: 2.1361 - acc: 0.1562 - val_loss: 2.0634 - val_acc: 0.2314\n",
            "Epoch 33/100\n",
            "1/1 [==============================] - 1s 721ms/step - loss: 2.1064 - acc: 0.1875 - val_loss: 2.0685 - val_acc: 0.2394\n",
            "Epoch 34/100\n",
            "1/1 [==============================] - 1s 711ms/step - loss: 2.0317 - acc: 0.1875 - val_loss: 2.0780 - val_acc: 0.2297\n",
            "Epoch 35/100\n",
            "1/1 [==============================] - 1s 705ms/step - loss: 2.1416 - acc: 0.1875 - val_loss: 2.0676 - val_acc: 0.2463\n",
            "Epoch 36/100\n",
            "1/1 [==============================] - 1s 715ms/step - loss: 2.1280 - acc: 0.1875 - val_loss: 2.0786 - val_acc: 0.2353\n",
            "Epoch 37/100\n",
            "1/1 [==============================] - 1s 712ms/step - loss: 1.9471 - acc: 0.3438 - val_loss: 2.0558 - val_acc: 0.2536\n",
            "Epoch 38/100\n",
            "1/1 [==============================] - 1s 724ms/step - loss: 2.1789 - acc: 0.1875 - val_loss: 2.0600 - val_acc: 0.2334\n",
            "Epoch 39/100\n",
            "1/1 [==============================] - 1s 708ms/step - loss: 2.2984 - acc: 0.0938 - val_loss: 2.0566 - val_acc: 0.2472\n",
            "Epoch 40/100\n",
            "1/1 [==============================] - 1s 713ms/step - loss: 1.9896 - acc: 0.3125 - val_loss: 2.0778 - val_acc: 0.2235\n",
            "Epoch 41/100\n",
            "1/1 [==============================] - 1s 709ms/step - loss: 2.0949 - acc: 0.2500 - val_loss: 2.0564 - val_acc: 0.2380\n",
            "Epoch 42/100\n",
            "1/1 [==============================] - 1s 731ms/step - loss: 1.9206 - acc: 0.3125 - val_loss: 2.0529 - val_acc: 0.2284\n",
            "Epoch 43/100\n",
            "1/1 [==============================] - 1s 718ms/step - loss: 2.1400 - acc: 0.2500 - val_loss: 2.0508 - val_acc: 0.2300\n",
            "Epoch 44/100\n",
            "1/1 [==============================] - 1s 711ms/step - loss: 1.9742 - acc: 0.2500 - val_loss: 2.0504 - val_acc: 0.2241\n",
            "Epoch 45/100\n",
            "1/1 [==============================] - 1s 710ms/step - loss: 2.0739 - acc: 0.2500 - val_loss: 2.0455 - val_acc: 0.2354\n",
            "Epoch 46/100\n",
            "1/1 [==============================] - 1s 707ms/step - loss: 1.9275 - acc: 0.1562 - val_loss: 2.0484 - val_acc: 0.2212\n",
            "Epoch 47/100\n",
            "1/1 [==============================] - 1s 711ms/step - loss: 2.0639 - acc: 0.2188 - val_loss: 2.0467 - val_acc: 0.2230\n",
            "Epoch 48/100\n",
            "1/1 [==============================] - 1s 712ms/step - loss: 2.1526 - acc: 0.1562 - val_loss: 2.0392 - val_acc: 0.2331\n",
            "Epoch 49/100\n",
            "1/1 [==============================] - 1s 709ms/step - loss: 1.9355 - acc: 0.2500 - val_loss: 2.0457 - val_acc: 0.2248\n",
            "Epoch 50/100\n",
            "1/1 [==============================] - 1s 715ms/step - loss: 2.2799 - acc: 0.1875 - val_loss: 2.0464 - val_acc: 0.2398\n",
            "Epoch 51/100\n",
            "1/1 [==============================] - 1s 711ms/step - loss: 2.1983 - acc: 0.1250 - val_loss: 2.0504 - val_acc: 0.2451\n",
            "Epoch 52/100\n",
            "1/1 [==============================] - 1s 707ms/step - loss: 2.2118 - acc: 0.0312 - val_loss: 2.0478 - val_acc: 0.2513\n",
            "Epoch 53/100\n",
            "1/1 [==============================] - 1s 712ms/step - loss: 1.9737 - acc: 0.2188 - val_loss: 2.0379 - val_acc: 0.2471\n",
            "Epoch 54/100\n",
            "1/1 [==============================] - 1s 719ms/step - loss: 1.9821 - acc: 0.2188 - val_loss: 2.0398 - val_acc: 0.2452\n",
            "Epoch 55/100\n",
            "1/1 [==============================] - 1s 707ms/step - loss: 2.0413 - acc: 0.1875 - val_loss: 2.0290 - val_acc: 0.2536\n",
            "Epoch 56/100\n",
            "1/1 [==============================] - 1s 726ms/step - loss: 2.0073 - acc: 0.1875 - val_loss: 2.0384 - val_acc: 0.2450\n",
            "Epoch 57/100\n",
            "1/1 [==============================] - 1s 713ms/step - loss: 2.1249 - acc: 0.2500 - val_loss: 2.0281 - val_acc: 0.2599\n",
            "Epoch 58/100\n",
            "1/1 [==============================] - 1s 717ms/step - loss: 1.8706 - acc: 0.3125 - val_loss: 2.0229 - val_acc: 0.2614\n",
            "Epoch 59/100\n",
            "1/1 [==============================] - 1s 703ms/step - loss: 2.0789 - acc: 0.0625 - val_loss: 2.0215 - val_acc: 0.2781\n",
            "Epoch 60/100\n",
            "1/1 [==============================] - 1s 711ms/step - loss: 2.0344 - acc: 0.2500 - val_loss: 2.0439 - val_acc: 0.2621\n",
            "Epoch 61/100\n",
            "1/1 [==============================] - 1s 712ms/step - loss: 2.1137 - acc: 0.2500 - val_loss: 2.0394 - val_acc: 0.2539\n",
            "Epoch 62/100\n",
            "1/1 [==============================] - 1s 707ms/step - loss: 1.9903 - acc: 0.3125 - val_loss: 2.0187 - val_acc: 0.2768\n",
            "Epoch 63/100\n",
            "1/1 [==============================] - 1s 711ms/step - loss: 1.9600 - acc: 0.3125 - val_loss: 2.0168 - val_acc: 0.2891\n",
            "Epoch 64/100\n",
            "1/1 [==============================] - 1s 707ms/step - loss: 2.0533 - acc: 0.3125 - val_loss: 2.0207 - val_acc: 0.2840\n",
            "Epoch 65/100\n",
            "1/1 [==============================] - 1s 703ms/step - loss: 1.9684 - acc: 0.2812 - val_loss: 2.0195 - val_acc: 0.2803\n",
            "Epoch 66/100\n",
            "1/1 [==============================] - 1s 720ms/step - loss: 2.1384 - acc: 0.1562 - val_loss: 2.0161 - val_acc: 0.2822\n",
            "Epoch 67/100\n",
            "1/1 [==============================] - 1s 714ms/step - loss: 2.0616 - acc: 0.3125 - val_loss: 2.0134 - val_acc: 0.2653\n",
            "Epoch 68/100\n",
            "1/1 [==============================] - 1s 716ms/step - loss: 2.1751 - acc: 0.1875 - val_loss: 2.0407 - val_acc: 0.2666\n",
            "Epoch 69/100\n",
            "1/1 [==============================] - 1s 712ms/step - loss: 1.9892 - acc: 0.3125 - val_loss: 2.0198 - val_acc: 0.2580\n",
            "Epoch 70/100\n",
            "1/1 [==============================] - 1s 714ms/step - loss: 2.0922 - acc: 0.2188 - val_loss: 2.0229 - val_acc: 0.2506\n",
            "Epoch 71/100\n",
            "1/1 [==============================] - 1s 732ms/step - loss: 2.0428 - acc: 0.3438 - val_loss: 2.0946 - val_acc: 0.2171\n",
            "Epoch 72/100\n",
            "1/1 [==============================] - 1s 712ms/step - loss: 2.2093 - acc: 0.1875 - val_loss: 2.0448 - val_acc: 0.2389\n",
            "Epoch 73/100\n",
            "1/1 [==============================] - 1s 712ms/step - loss: 2.2513 - acc: 0.1562 - val_loss: 2.0182 - val_acc: 0.2665\n",
            "Epoch 74/100\n",
            "1/1 [==============================] - 1s 714ms/step - loss: 2.1901 - acc: 0.2812 - val_loss: 2.0216 - val_acc: 0.2618\n",
            "Epoch 75/100\n",
            "1/1 [==============================] - 1s 705ms/step - loss: 2.1572 - acc: 0.1875 - val_loss: 2.0496 - val_acc: 0.2446\n",
            "Epoch 76/100\n",
            "1/1 [==============================] - 1s 714ms/step - loss: 1.8933 - acc: 0.3438 - val_loss: 2.0343 - val_acc: 0.2475\n",
            "Epoch 77/100\n",
            "1/1 [==============================] - 1s 711ms/step - loss: 2.0443 - acc: 0.2500 - val_loss: 2.0208 - val_acc: 0.2471\n",
            "Epoch 78/100\n",
            "1/1 [==============================] - 1s 721ms/step - loss: 2.1655 - acc: 0.1875 - val_loss: 2.0206 - val_acc: 0.2509\n",
            "Epoch 79/100\n",
            "1/1 [==============================] - 1s 709ms/step - loss: 1.8570 - acc: 0.3750 - val_loss: 2.0293 - val_acc: 0.2468\n",
            "Epoch 80/100\n",
            "1/1 [==============================] - 1s 714ms/step - loss: 2.1352 - acc: 0.1875 - val_loss: 2.0215 - val_acc: 0.2580\n",
            "Epoch 81/100\n",
            "1/1 [==============================] - 1s 712ms/step - loss: 2.1849 - acc: 0.1562 - val_loss: 2.0196 - val_acc: 0.2527\n",
            "Epoch 82/100\n",
            "1/1 [==============================] - 1s 705ms/step - loss: 2.1140 - acc: 0.2188 - val_loss: 2.0214 - val_acc: 0.2582\n",
            "Epoch 83/100\n",
            "1/1 [==============================] - 1s 714ms/step - loss: 2.2543 - acc: 0.1250 - val_loss: 2.0223 - val_acc: 0.2724\n",
            "Epoch 84/100\n",
            "1/1 [==============================] - 1s 713ms/step - loss: 2.0811 - acc: 0.2188 - val_loss: 2.0190 - val_acc: 0.2780\n",
            "Epoch 85/100\n",
            "1/1 [==============================] - 1s 716ms/step - loss: 1.9280 - acc: 0.3750 - val_loss: 2.0264 - val_acc: 0.2612\n",
            "Epoch 86/100\n",
            "1/1 [==============================] - 1s 735ms/step - loss: 1.9669 - acc: 0.2812 - val_loss: 2.0207 - val_acc: 0.2666\n",
            "Epoch 87/100\n",
            "1/1 [==============================] - 1s 724ms/step - loss: 1.9857 - acc: 0.3438 - val_loss: 2.0097 - val_acc: 0.2797\n",
            "Epoch 88/100\n",
            "1/1 [==============================] - 1s 719ms/step - loss: 2.0394 - acc: 0.3750 - val_loss: 2.0082 - val_acc: 0.2701\n",
            "Epoch 89/100\n",
            "1/1 [==============================] - 1s 720ms/step - loss: 2.1370 - acc: 0.2188 - val_loss: 2.0281 - val_acc: 0.2676\n",
            "Epoch 90/100\n",
            "1/1 [==============================] - 1s 725ms/step - loss: 1.9224 - acc: 0.3438 - val_loss: 2.0273 - val_acc: 0.2500\n",
            "Epoch 91/100\n",
            "1/1 [==============================] - 1s 719ms/step - loss: 1.9695 - acc: 0.1875 - val_loss: 2.0073 - val_acc: 0.2783\n",
            "Epoch 92/100\n",
            "1/1 [==============================] - 1s 714ms/step - loss: 2.0773 - acc: 0.2188 - val_loss: 2.0235 - val_acc: 0.2533\n",
            "Epoch 93/100\n",
            "1/1 [==============================] - 1s 725ms/step - loss: 2.1556 - acc: 0.2188 - val_loss: 2.0087 - val_acc: 0.2562\n",
            "Epoch 94/100\n",
            "1/1 [==============================] - 1s 722ms/step - loss: 2.0318 - acc: 0.2500 - val_loss: 2.0167 - val_acc: 0.2637\n",
            "Epoch 95/100\n",
            "1/1 [==============================] - 1s 715ms/step - loss: 1.9370 - acc: 0.3438 - val_loss: 2.0440 - val_acc: 0.2392\n",
            "Epoch 96/100\n",
            "1/1 [==============================] - 1s 721ms/step - loss: 2.1134 - acc: 0.2188 - val_loss: 2.0043 - val_acc: 0.2824\n",
            "Epoch 97/100\n",
            "1/1 [==============================] - 1s 720ms/step - loss: 2.1369 - acc: 0.3438 - val_loss: 2.0131 - val_acc: 0.2591\n",
            "Epoch 98/100\n",
            "1/1 [==============================] - 1s 715ms/step - loss: 1.9672 - acc: 0.3438 - val_loss: 2.0061 - val_acc: 0.2760\n",
            "Epoch 99/100\n",
            "1/1 [==============================] - 1s 710ms/step - loss: 2.0596 - acc: 0.1250 - val_loss: 2.0085 - val_acc: 0.2540\n",
            "Epoch 100/100\n",
            "1/1 [==============================] - 1s 732ms/step - loss: 2.0230 - acc: 0.2812 - val_loss: 2.0120 - val_acc: 0.2431\n"
          ],
          "name": "stdout"
        }
      ]
    },
    {
      "cell_type": "markdown",
      "metadata": {
        "id": "vcGfGfMLsj01",
        "colab_type": "text"
      },
      "source": [
        "##### Saving the model"
      ]
    },
    {
      "cell_type": "code",
      "metadata": {
        "id": "qi2Jsz5TmZ3R",
        "colab_type": "code",
        "outputId": "00e54770-2e0a-498d-fdad-96dad4eec673",
        "colab": {
          "base_uri": "https://localhost:8080/",
          "height": 35
        }
      },
      "source": [
        "# Save model and weights\n",
        "if not os.path.isdir(save_dir):\n",
        "    os.makedirs(save_dir)\n",
        "model_path = os.path.join(save_dir, model_name)\n",
        "model.save(model_path)\n",
        "print('Saved trained model at %s ' % model_path)"
      ],
      "execution_count": 10,
      "outputs": [
        {
          "output_type": "stream",
          "text": [
            "Saved trained model at /content/saved_models/keras_cifar10_trained_model_Aug.h5 \n"
          ],
          "name": "stdout"
        }
      ]
    },
    {
      "cell_type": "markdown",
      "metadata": {
        "id": "OlLfaObtsr-O",
        "colab_type": "text"
      },
      "source": [
        "##### Determining the accuracy of the model"
      ]
    },
    {
      "cell_type": "code",
      "metadata": {
        "id": "mdukFLdNmdvP",
        "colab_type": "code",
        "outputId": "9956927e-7c00-4267-8a25-c29640bd42dc",
        "colab": {
          "base_uri": "https://localhost:8080/",
          "height": 72
        }
      },
      "source": [
        "# Score trained model.\n",
        "scores = model.evaluate(x_test, y_test, verbose=1)\n",
        "print('Test loss:', scores[0])\n",
        "print('Test accuracy:', scores[1])"
      ],
      "execution_count": 11,
      "outputs": [
        {
          "output_type": "stream",
          "text": [
            "10000/10000 [==============================] - 1s 94us/step\n",
            "Test loss: 2.0119831691741945\n",
            "Test accuracy: 0.2431\n"
          ],
          "name": "stdout"
        }
      ]
    }
  ]
}